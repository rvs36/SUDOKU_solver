{
 "cells": [
  {
   "cell_type": "markdown",
   "metadata": {},
   "source": [
    "# Loading the required packages"
   ]
  },
  {
   "cell_type": "code",
   "execution_count": 5,
   "metadata": {},
   "outputs": [],
   "source": [
    "%matplotlib notebook\n",
    "import numpy as np\n",
    "import cvxopt\n",
    "import cvxopt.glpk"
   ]
  },
  {
   "cell_type": "code",
   "execution_count": 6,
   "metadata": {},
   "outputs": [],
   "source": [
    "cvxopt.glpk.ilp?"
   ]
  },
  {
   "cell_type": "code",
   "execution_count": 13,
   "metadata": {},
   "outputs": [
    {
     "data": {
      "text/plain": [
       "' not used\\ndef ravel(l,size=3):\\n    n2=size*size\\n    assert (l>=0 and l < n2*n2*n2)\\n    i = l // (n2*n2)\\n    j = (l % (n2*n2)) // n2\\n    k = l - i*n2*n2 - j*n2\\n    return ((i,j,k))\\n'"
      ]
     },
     "execution_count": 13,
     "metadata": {},
     "output_type": "execute_result"
    }
   ],
   "source": [
    "## To help create the huge matrix\n",
    "\n",
    "#  If the condition is true, it does nothing and your program just continues to execute. \n",
    "#But if the assert condition evaluates to false, it raises an AssertionError exception with an optional error message.\n",
    "\n",
    "\n",
    "def unravel(i,j,k,size=4):\n",
    "    n2 = size*size\n",
    "    assert(i>=0 and i<n2)\n",
    "    assert(j>=0 and i<n2)\n",
    "    assert(k>=0 and i<n2)\n",
    "    \n",
    "    return(k+ j*n2+ i*n2*n2)\n",
    "\n",
    "\n",
    "\"\"\" not used\n",
    "def ravel(l,size=3):\n",
    "    n2=size*size\n",
    "    assert (l>=0 and l < n2*n2*n2)\n",
    "    i = l // (n2*n2)\n",
    "    j = (l % (n2*n2)) // n2\n",
    "    k = l - i*n2*n2 - j*n2\n",
    "    return ((i,j,k))\n",
    "\"\"\""
   ]
  },
  {
   "cell_type": "code",
   "execution_count": 65,
   "metadata": {},
   "outputs": [
    {
     "data": {
      "text/plain": [
       "(1024, 4096)"
      ]
     },
     "execution_count": 65,
     "metadata": {},
     "output_type": "execute_result"
    }
   ],
   "source": [
    "## create constraint matrix\n",
    "\n",
    "size=4\n",
    "n2=size*size\n",
    "A=np.zeros((4*n2*n2,n2*n2*n2))\n",
    "A.shape"
   ]
  },
  {
   "cell_type": "code",
   "execution_count": 66,
   "metadata": {
    "scrolled": false
   },
   "outputs": [
    {
     "name": "stdout",
     "output_type": "stream",
     "text": [
      "Total number of constraints= 256\n",
      "All constraints OK\n"
     ]
    }
   ],
   "source": [
    "## line constraints: only one number per line\n",
    "c=0\n",
    "for k in range(n2): ## for all numbers\n",
    "    for j in range(n2): ## for all columns\n",
    "        for i in range(n2): \n",
    "            A[c,unravel(i,j,k)] = 1 ## only one number k on line i\n",
    "            A[c+n2*n2,unravel(j,i,k)] = 1 ##only one number k on line j\n",
    "            A[c+2*n2*n2,unravel(j,k,i)] = 1 ## number k only once in the entire table\n",
    "            f=0                             ## number k only once in a subsquare\n",
    "            for m in range(size):\n",
    "                for n in range(size):\n",
    "                    A[c//n2+3*n2*n2+n2*f,unravel((i//size + size*m) , (j//size +size*n) ,k)] = 1\n",
    "                    f+=1\n",
    "        c += 1\n",
    "        \n",
    "       \n",
    "        \n",
    "print(\"Total number of constraints=\",c)\n",
    "\n",
    "def testA(A,c,size=4):\n",
    "    n2 = size*size\n",
    "    for n in range(c):\n",
    "        if (np.sum(A[n,])!=n2):\n",
    "            print(\"error on line\", n)\n",
    "            break\n",
    "    print(\"All constraints OK\")\n",
    "    return\n",
    "\n",
    "testA(A,c,4)"
   ]
  },
  {
   "cell_type": "code",
   "execution_count": 67,
   "metadata": {},
   "outputs": [
    {
     "name": "stdout",
     "output_type": "stream",
     "text": [
      "A.shape= (1126, 4096)\n"
     ]
    }
   ],
   "source": [
    "## add the fixed numbers constraints\n",
    "\n",
    "# # important to note - the indices range from 0 to 8 and not from 1 to 9 and same is the case with alphabets\n",
    "ls = [(0,0,8),(0,1,15),(0,3,12),(0,9,10),(0,15,6),(1,3,10),(1,7,15),(1,11,11),(1,12,7),(1,13,4),(1,14,13),\n",
    "      (2,0,11),(2,2,4),(2,6,13),(2,7,6),(2,9,7),(2,12,0),(2,14,5),\n",
    "      (3,0,1),(3,7,0),(3,8,3),(3,10,9),(3,11,2),\n",
    "      (4,5,1),(4,6,15),(4,7,13),(4,9,3),(4,10,0),(4,13,14),(4,14,7),(4,15,4),\n",
    "      (5,1,1),(5,3,6),(5,7,12),(5,9,11),(5,12,10),(5,14,3),\n",
    "      (6,1,12),(6,3,13),(6,6,6),(6,7,3),(6,9,5),(6,12,9),(6,13,2),\n",
    "      (7,0,9),(7,2,3),(7,3,4),(7,4,14),(7,6,2),(7,10,7),(7,11,13),\n",
    "      (8,4,5),(8,5,7),(8,9,8),(8,11,12),(8,12,3),(8,13,0),(8,15,10),\n",
    "      (9,2,14),(9,3,2),(9,6,4),(9,8,7),(9,9,1),(9,12,15),(9,14,6),\n",
    "      (10,1,5),(10,3,3),(10,6,8),(10,8,9),(10,12,14),(10,14,12),\n",
    "      (11,0,7),(11,1,0),(11,2,6),(11,5,12),(11,6,9),(11,8,13),(11,9,14),(11,10,3),\n",
    "      (12,4,13),(12,5,14),(12,7,4),(12,8,0),(12,15,2),\n",
    "      (13,1,7),(13,3,8),(13,6,12),(13,8,4),(13,9,2),(13,13,11),(13,15,5),\n",
    "      (14,1,2),(14,2,9),(14,3,14),(14,4,11),(14,8,5),(14,12,4),\n",
    "      (15,0,6),(15,6,7),(15,12,1),(15,14,8),(15,15,3)]\n",
    "      \n",
    "for lenconst in range(len(ls)):\n",
    "    i,j,k = ls[lenconst]\n",
    "    new = np.zeros((1,A.shape[1]))\n",
    "    new[0,unravel(i,j,k)] = 1\n",
    "    A = np.append(A,new,axis=0)\n",
    "            \n",
    "print(\"A.shape=\", A.shape)"
   ]
  },
  {
   "cell_type": "code",
   "execution_count": 68,
   "metadata": {},
   "outputs": [],
   "source": [
    "## solving\n",
    "from cvxopt import matrix\n",
    "\n",
    "b=matrix(np.ones(A.shape[0])) ## set partition\n",
    "c=matrix(np.zeros(A.shape[1])) ## zero cost\n",
    "G=matrix(np.zeros(A.shape))\n",
    "h=matrix(np.zeros(A.shape[0]))\n",
    "binary=np.array(range(A.shape[1]))\n",
    "I=set(binary)\n",
    "B=set(binary)\n",
    "Aeq = matrix(A)\n",
    "(status, solution) = cvxopt.glpk.ilp(c=c,G=G,h=h,A=Aeq,b=b,B=set(range(A.shape[1])))"
   ]
  },
  {
   "cell_type": "code",
   "execution_count": 69,
   "metadata": {},
   "outputs": [],
   "source": [
    "(status, solution) = cvxopt.glpk.ilp(c=c,G=G,h=h,A=Aeq,b=b,B=set(range(A.shape[1])))"
   ]
  },
  {
   "cell_type": "code",
   "execution_count": 70,
   "metadata": {},
   "outputs": [
    {
     "data": {
      "text/plain": [
       "'optimal'"
      ]
     },
     "execution_count": 70,
     "metadata": {},
     "output_type": "execute_result"
    }
   ],
   "source": [
    "# checking the status before printing\n",
    "status"
   ]
  },
  {
   "cell_type": "markdown",
   "metadata": {},
   "source": [
    "# printing the output"
   ]
  },
  {
   "cell_type": "code",
   "execution_count": 74,
   "metadata": {},
   "outputs": [
    {
     "name": "stdout",
     "output_type": "stream",
     "text": [
      "+-------+-------+-------+-------+\n",
      "|8 F 0 C|1 B 5 7|E A D 4|2 3 9 6|\n",
      "|3 6 2 A|8 9 E F|1 0 5 B|7 4 D C|\n",
      "|B E 4 9|2 3 D 6|F 7 C 8|0 A 5 1|\n",
      "|1 D 5 7|C 4 A 0|3 6 9 2|B 8 F E|\n",
      "+-------+-------+-------+-------+\n",
      "|2 B 8 5|9 1 F D|A 3 0 6|C E 7 4|\n",
      "|E 1 F 6|7 8 0 C|2 B 4 9|A 5 3 D|\n",
      "|0 C 7 D|4 A 6 3|8 5 1 E|9 2 B F|\n",
      "|9 A 3 4|E 5 2 B|C F 7 D|8 6 1 0|\n",
      "+-------+-------+-------+-------+\n",
      "|4 9 D 1|5 7 B E|6 8 F C|3 0 2 A|\n",
      "|C 8 E 2|3 0 4 A|7 1 B 5|F D 6 9|\n",
      "|F 5 A 3|6 D 8 1|9 4 2 0|E 7 C B|\n",
      "|7 0 6 B|F C 9 2|D E 3 A|5 1 4 8|\n",
      "+-------+-------+-------+-------+\n",
      "|5 3 B F|D E 1 4|0 9 8 7|6 C A 2|\n",
      "|A 7 1 8|0 F C 9|4 2 6 3|D B E 5|\n",
      "|D 2 9 E|B 6 3 8|5 C A 1|4 F 0 7|\n",
      "|6 4 C 0|A 2 7 5|B D E F|1 9 8 3|\n",
      "+-------+-------+-------+-------+\n"
     ]
    }
   ],
   "source": [
    "## print solution\n",
    "def printsol(sol):\n",
    "    sep3=\"+-------+-------+-------+-------+\"\n",
    "    for i in range(n2):\n",
    "        if (i%4 == 0):\n",
    "            print(sep3)\n",
    "        print(\"|\",end='')\n",
    "        for j in range(n2):\n",
    "            for k in range(n2):\n",
    "                if (sol[unravel(i,j,k)]==1):\n",
    "                    if k>9:\n",
    "                        print(chr(65-10+k),end='')\n",
    "                    else:\n",
    "                        print(k,end='')\n",
    "            if (j%4 ==3):\n",
    "                print(\"|\",end='')\n",
    "            else:\n",
    "                print(\" \",end='')\n",
    "        print(\"\")\n",
    "    print(sep3)\n",
    "        \n",
    "printsol(solution)\n",
    "          "
   ]
  },
  {
   "cell_type": "code",
   "execution_count": null,
   "metadata": {},
   "outputs": [],
   "source": []
  }
 ],
 "metadata": {
  "kernelspec": {
   "display_name": "Python 3",
   "language": "python",
   "name": "python3"
  },
  "language_info": {
   "codemirror_mode": {
    "name": "ipython",
    "version": 3
   },
   "file_extension": ".py",
   "mimetype": "text/x-python",
   "name": "python",
   "nbconvert_exporter": "python",
   "pygments_lexer": "ipython3",
   "version": "3.7.3"
  },
  "latex_envs": {
   "LaTeX_envs_menu_present": true,
   "autoclose": false,
   "autocomplete": true,
   "bibliofile": "biblio.bib",
   "cite_by": "apalike",
   "current_citInitial": 1,
   "eqLabelWithNumbers": true,
   "eqNumInitial": 1,
   "hotkeys": {
    "equation": "Ctrl-E",
    "itemize": "Ctrl-I"
   },
   "labels_anchors": false,
   "latex_user_defs": false,
   "report_style_numbering": false,
   "user_envs_cfg": false
  }
 },
 "nbformat": 4,
 "nbformat_minor": 2
}
