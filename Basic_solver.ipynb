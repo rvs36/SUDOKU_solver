{
 "cells": [
  {
   "cell_type": "markdown",
   "metadata": {},
   "source": [
    "# Importing the required packages"
   ]
  },
  {
   "cell_type": "code",
   "execution_count": 1,
   "metadata": {},
   "outputs": [],
   "source": [
    "%matplotlib notebook\n",
    "import numpy as np\n",
    "import cvxopt\n",
    "import cvxopt.glpk"
   ]
  },
  {
   "cell_type": "code",
   "execution_count": 2,
   "metadata": {},
   "outputs": [],
   "source": [
    "cvxopt.glpk.ilp?"
   ]
  },
  {
   "cell_type": "code",
   "execution_count": 3,
   "metadata": {},
   "outputs": [
    {
     "data": {
      "text/plain": [
       "' not used\\ndef ravel(l,size=3):\\n    n2=size*size\\n    assert (l>=0 and l < n2*n2*n2)\\n    i = l // (n2*n2)\\n    j = (l % (n2*n2)) // n2\\n    k = l - i*n2*n2 - j*n2\\n    return ((i,j,k))\\n'"
      ]
     },
     "execution_count": 3,
     "metadata": {},
     "output_type": "execute_result"
    }
   ],
   "source": [
    "## To help create the huge matrix\n",
    "\n",
    "#  If the condition is true, it does nothing and your program just continues to execute. \n",
    "#But if the assert condition evaluates to false, it raises an AssertionError exception with an optional error message.\n",
    "def unravel(i,j,k,size=3):\n",
    "    n2 = size*size\n",
    "    assert(i>=0 and i<n2)\n",
    "    assert(j>=0 and i<n2)\n",
    "    assert(k>=0 and i<n2)\n",
    "    \n",
    "    return(k+ j*n2+ i*n2*n2)\n",
    "\n",
    "\n",
    "\"\"\" not used\n",
    "def ravel(l,size=3):\n",
    "    n2=size*size\n",
    "    assert (l>=0 and l < n2*n2*n2)\n",
    "    i = l // (n2*n2)\n",
    "    j = (l % (n2*n2)) // n2\n",
    "    k = l - i*n2*n2 - j*n2\n",
    "    return ((i,j,k))\n",
    "\"\"\""
   ]
  },
  {
   "cell_type": "code",
   "execution_count": 4,
   "metadata": {},
   "outputs": [
    {
     "data": {
      "text/plain": [
       "(324, 729)"
      ]
     },
     "execution_count": 4,
     "metadata": {},
     "output_type": "execute_result"
    }
   ],
   "source": [
    "## create constraint matrix\n",
    "\n",
    "size=3\n",
    "n2=size*size\n",
    "A=np.zeros((4*n2*n2,n2*n2*n2))\n",
    "A.shape"
   ]
  },
  {
   "cell_type": "code",
   "execution_count": 5,
   "metadata": {
    "scrolled": false
   },
   "outputs": [
    {
     "name": "stdout",
     "output_type": "stream",
     "text": [
      "Total number of constraints= 81\n",
      "All constraints OK\n"
     ]
    }
   ],
   "source": [
    "## line constraints: only one number per line\n",
    "c=0\n",
    "for k in range(n2): ## for all numbers\n",
    "    for j in range(n2): ## for all columns\n",
    "        for i in range(n2): \n",
    "            A[c,unravel(i,j,k)] = 1 ## only one number k on line i\n",
    "            A[c+n2*n2,unravel(j,i,k)] = 1 ##only one number k on line j\n",
    "            A[c+2*n2*n2,unravel(j,k,i)] = 1 ## number k only once in the entire table\n",
    "            f=0                             ## number k only once in a subsquare\n",
    "            for m in range(size):\n",
    "                for n in range(size):\n",
    "                    A[c//n2+3*n2*n2+n2*f,unravel((i//size + size*m) , (j//size +size*n) ,k)] = 1\n",
    "                    f+=1\n",
    "        c += 1\n",
    "           \n",
    "        \n",
    "print(\"Total number of constraints=\",c)\n",
    "\n",
    "def testA(A,c,size=3):\n",
    "    n2 = size*size\n",
    "    for n in range(c):\n",
    "        if (np.sum(A[n,])!=n2):\n",
    "            print(\"error on line\", n)\n",
    "            break\n",
    "    print(\"All constraints OK\")\n",
    "    return\n",
    "\n",
    "testA(A,c)"
   ]
  },
  {
   "cell_type": "code",
   "execution_count": 6,
   "metadata": {},
   "outputs": [
    {
     "name": "stdout",
     "output_type": "stream",
     "text": [
      "A.shape= (359, 729)\n"
     ]
    }
   ],
   "source": [
    "## add the fixed numbers constraints\n",
    "\n",
    "# important to note - the indices range from 0 to 8 and not from 1 to 9\n",
    "\n",
    "ls = [(0,1,7),(0,3,8),(0,5,0),(0,7,4),(1,2,1),(1,3,5),(1,4,7),(1,5,6),(1,6,2),(2,2,2),(2,6,5),(3,0,2),\n",
    "     (3,1,8),(3,7,5),(3,8,4),(4,0,5),(4,3,3),(4,4,6),(4,5,4),(4,8,2),(5,0,4),(5,1,6),(5,7,7),(5,8,3),(6,2,8),(6,6,7),(7,2,4),\n",
    "      (7,3,0),(7,4,1),(7,5,3),(7,6,8),(8,1,3),(8,3,7),(8,5,2),(8,7,1)]\n",
    "for lenconst in range(len(ls)):\n",
    "    i,j,k = ls[lenconst]\n",
    "    new = np.zeros((1,A.shape[1]))\n",
    "    new[0,unravel(i,j,k)] = 1\n",
    "    A = np.append(A,new,axis=0)\n",
    "            \n",
    "print(\"A.shape=\", A.shape)"
   ]
  },
  {
   "cell_type": "code",
   "execution_count": 7,
   "metadata": {},
   "outputs": [],
   "source": [
    "## solving\n",
    "from cvxopt import matrix\n",
    "\n",
    "b=matrix(np.ones(A.shape[0])) ## set partition\n",
    "c=matrix(np.zeros(A.shape[1])) ## zero cost\n",
    "G=matrix(np.zeros(A.shape))\n",
    "h=matrix(np.zeros(A.shape[0]))\n",
    "binary=np.array(range(A.shape[1]))\n",
    "I=set(binary)\n",
    "B=set(binary)\n",
    "Aeq = matrix(A)\n",
    "(status, solution) = cvxopt.glpk.ilp(c=c,G=G,h=h,A=Aeq,b=b,B=set(range(A.shape[1])))"
   ]
  },
  {
   "cell_type": "code",
   "execution_count": 8,
   "metadata": {},
   "outputs": [],
   "source": [
    "(status, solution) = cvxopt.glpk.ilp(c=c,G=G,h=h,A=Aeq,b=b,B=set(range(A.shape[1])))"
   ]
  },
  {
   "cell_type": "code",
   "execution_count": 9,
   "metadata": {},
   "outputs": [
    {
     "data": {
      "text/plain": [
       "'optimal'"
      ]
     },
     "execution_count": 9,
     "metadata": {},
     "output_type": "execute_result"
    }
   ],
   "source": [
    "status"
   ]
  },
  {
   "cell_type": "markdown",
   "metadata": {},
   "source": [
    "# Getting final output"
   ]
  },
  {
   "cell_type": "code",
   "execution_count": 10,
   "metadata": {},
   "outputs": [
    {
     "name": "stdout",
     "output_type": "stream",
     "text": [
      "+-----+-----+-----+\n",
      "|7 8 6|9 3 1|4 5 2|\n",
      "|4 5 2|6 8 7|3 1 9|\n",
      "|9 1 3|5 4 2|6 7 8|\n",
      "+-----+-----+-----+\n",
      "|3 9 4|2 1 8|7 6 5|\n",
      "|6 2 8|4 7 5|1 9 3|\n",
      "|5 7 1|3 6 9|2 8 4|\n",
      "+-----+-----+-----+\n",
      "|2 3 9|7 5 6|8 4 1|\n",
      "|8 6 5|1 2 4|9 3 7|\n",
      "|1 4 7|8 9 3|5 2 6|\n",
      "+-----+-----+-----+\n"
     ]
    }
   ],
   "source": [
    "## print solution\n",
    "def printsol(sol):\n",
    "    sep3=\"+-----+-----+-----+\"\n",
    "    for i in range(n2):\n",
    "        if (i%3 == 0):\n",
    "            print(sep3)\n",
    "        print(\"|\",end='')\n",
    "        for j in range(n2):\n",
    "            for k in range(n2):\n",
    "                if (sol[unravel(i,j,k)]==1):\n",
    "                    print(k+1,end='')\n",
    "            if (j%3 ==2):\n",
    "                print(\"|\",end='')\n",
    "            else:\n",
    "                print(\" \",end='')\n",
    "        print(\"\")\n",
    "    print(sep3)\n",
    "        \n",
    "printsol(solution)\n",
    "          "
   ]
  }
 ],
 "metadata": {
  "kernelspec": {
   "display_name": "Python 3",
   "language": "python",
   "name": "python3"
  },
  "language_info": {
   "codemirror_mode": {
    "name": "ipython",
    "version": 3
   },
   "file_extension": ".py",
   "mimetype": "text/x-python",
   "name": "python",
   "nbconvert_exporter": "python",
   "pygments_lexer": "ipython3",
   "version": "3.7.3"
  },
  "latex_envs": {
   "LaTeX_envs_menu_present": true,
   "autoclose": false,
   "autocomplete": true,
   "bibliofile": "biblio.bib",
   "cite_by": "apalike",
   "current_citInitial": 1,
   "eqLabelWithNumbers": true,
   "eqNumInitial": 1,
   "hotkeys": {
    "equation": "Ctrl-E",
    "itemize": "Ctrl-I"
   },
   "labels_anchors": false,
   "latex_user_defs": false,
   "report_style_numbering": false,
   "user_envs_cfg": false
  }
 },
 "nbformat": 4,
 "nbformat_minor": 2
}
